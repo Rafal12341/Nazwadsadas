{
 "cells": [
  {
   "cell_type": "code",
   "execution_count": 3,
   "id": "66f02209",
   "metadata": {},
   "outputs": [
    {
     "name": "stdout",
     "output_type": "stream",
     "text": [
      "['Print', 'only', 'the', 'words', 'that', 'start', 'with', 's', 'in', 'this', 'sentence']\n",
      "start\n",
      "s\n",
      "sentence\n"
     ]
    }
   ],
   "source": [
    "sentence = 'Print only the words that start with s in this sentence'\n",
    "#code here\n",
    "print (sentence.split())\n",
    "for word in sentence.split():\n",
    "    if word[0] == 's':\n",
    "        print (word)"
   ]
  },
  {
   "cell_type": "code",
   "execution_count": 9,
   "id": "dd046feb",
   "metadata": {},
   "outputs": [
    {
     "data": {
      "text/plain": [
       "[0, 2, 4, 6, 8, 10]"
      ]
     },
     "execution_count": 9,
     "metadata": {},
     "output_type": "execute_result"
    }
   ],
   "source": [
    "[number for number in range(0,11) if number % 2 ==0]"
   ]
  },
  {
   "cell_type": "code",
   "execution_count": 10,
   "id": "0fa17af9",
   "metadata": {},
   "outputs": [
    {
     "data": {
      "text/plain": [
       "[3, 6, 9, 12, 15, 18, 21, 24, 27, 30, 33, 36, 39, 42, 45, 48]"
      ]
     },
     "execution_count": 10,
     "metadata": {},
     "output_type": "execute_result"
    }
   ],
   "source": [
    "[number for number in range(1,51) if number % 3 ==0]"
   ]
  },
  {
   "cell_type": "code",
   "execution_count": 11,
   "id": "8baecd28",
   "metadata": {},
   "outputs": [
    {
     "name": "stdout",
     "output_type": "stream",
     "text": [
      "word\n",
      "in\n",
      "this\n",
      "sentence\n",
      "that\n",
      "an\n",
      "even\n",
      "number\n",
      "of\n"
     ]
    }
   ],
   "source": [
    "another_sentence = 'Print every word in this sentence that has an even number of letters'\n",
    "for word in another_sentence.split():\n",
    "    if len(word) % 2 ==0:\n",
    "        print(word)"
   ]
  },
  {
   "cell_type": "code",
   "execution_count": 19,
   "id": "42d4af66",
   "metadata": {},
   "outputs": [
    {
     "name": "stdout",
     "output_type": "stream",
     "text": [
      "{1, 2, 3, 5, 8, 13}\n"
     ]
    }
   ],
   "source": [
    "a = [1, 1, 2, 3, 5, 5, 5, 5, 8, 13, 21, 34]\n",
    "b = [1, 2, 3, 3, 3, 4, 5, 6, 7, 8, 9, 10, 11, 12, 13, 13]\n",
    "c = []\n",
    "\n",
    "for a1 in a:\n",
    "    for b1 in b:\n",
    "        if a1 ==b1:\n",
    "            c.append(a1)\n",
    "s = set(c)\n",
    "print(s)"
   ]
  },
  {
   "cell_type": "code",
   "execution_count": null,
   "id": "7362eb36",
   "metadata": {},
   "outputs": [],
   "source": []
  }
 ],
 "metadata": {
  "kernelspec": {
   "display_name": "Python 3 (ipykernel)",
   "language": "python",
   "name": "python3"
  },
  "language_info": {
   "codemirror_mode": {
    "name": "ipython",
    "version": 3
   },
   "file_extension": ".py",
   "mimetype": "text/x-python",
   "name": "python",
   "nbconvert_exporter": "python",
   "pygments_lexer": "ipython3",
   "version": "3.9.7"
  }
 },
 "nbformat": 4,
 "nbformat_minor": 5
}
